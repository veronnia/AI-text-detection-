{
 "nbformat": 4,
 "nbformat_minor": 0,
 "metadata": {
  "colab": {
   "provenance": [],
   "gpuType": "T4"
  },
  "kernelspec": {
   "name": "python3",
   "display_name": "Python 3 (ipykernel)",
   "language": "python"
  },
  "language_info": {
   "name": "python"
  },
  "accelerator": "GPU"
 },
 "cells": [
  {
   "cell_type": "code",
   "metadata": {
    "id": "Wgx2OeDXlkmP",
    "ExecuteTime": {
     "end_time": "2025-05-13T23:02:25.495863Z",
     "start_time": "2025-05-13T23:02:21.232137Z"
    }
   },
   "source": [
    "import numpy as np\n",
    "import pandas as pd\n",
    "import matplotlib.pyplot as plt\n",
    "import seaborn as sns\n",
    "\n",
    "import re          # Remove punctuation/special chars ,Remove extra whitespace\n",
    "# import nltk\n",
    "\n",
    "from sklearn.feature_extraction.text import TfidfVectorizer\n",
    "from sklearn.model_selection import train_test_split\n",
    "\n",
    "from sklearn.linear_model import LogisticRegression\n",
    "from sklearn.metrics import classification_report, accuracy_score\n",
    "from sklearn.cluster import KMeans\n",
    "from sklearn.decomposition import PCA\n",
    "from sklearn.metrics import adjusted_rand_score\n",
    "\n",
    "# import torch                #for ANN (not done yet)\n",
    "# import torch.nn as nn\n",
    "# from torch.utils.data import TensorDataset, DataLoader"
   ],
   "outputs": [],
   "execution_count": 24
  },
  {
   "metadata": {
    "ExecuteTime": {
     "end_time": "2025-05-13T22:42:52.005011Z",
     "start_time": "2025-05-13T22:42:52.002056Z"
    }
   },
   "cell_type": "code",
   "source": [
    "# import os\n",
    "# os.chdir(os.path.dirname(os.path.abspath(\"/home/sama/PycharmProjects/ML Project/Machine_Learning_Project.ipynb\")))\n",
    "# os.getcwd()"
   ],
   "outputs": [],
   "execution_count": 6
  },
  {
   "cell_type": "code",
   "source": [
    "# base_dir=('/content/drive/MyDrive/ML project')\n",
    "# glove_path = \"/content/drive/MyDrive/ML project/glove.6B.100d.txt\"\n",
    "glove_path = \"glove.6B.100d.txt\""
   ],
   "metadata": {
    "id": "w70dhobGeoNA",
    "colab": {
     "base_uri": "https://localhost:8080/"
    },
    "outputId": "0c7fe89e-54b6-4a99-f905-1a35b3f42298",
    "ExecuteTime": {
     "end_time": "2025-05-13T22:42:52.095366Z",
     "start_time": "2025-05-13T22:42:52.090765Z"
    }
   },
   "outputs": [],
   "execution_count": 7
  },
  {
   "cell_type": "markdown",
   "source": [
    "# Functions\n"
   ],
   "metadata": {
    "id": "a3VSRwmTe_-Q"
   }
  },
  {
   "cell_type": "code",
   "source": [
    "def clean_text(text):\n",
    "    text = text.lower()\n",
    "    text = re.sub(r\"[^a-zA-Z0-9\\s]\", \" \", text)\n",
    "    text = re.sub(r\"\\s+\", \" \", text).strip()\n",
    "    return text\n",
    "\n",
    "#   # Compute average word vector for each paragraph\n",
    "# def paragraph_to_vector(tokens, embeddings, dim=100):\n",
    "#     vectors = [embeddings[word] for word in tokens if word in embeddings]\n",
    "#     if len(vectors) == 0:\n",
    "#         return np.zeros(dim)  # fallback if all words are OOV\n",
    "#     return np.mean(vectors, axis=0)\n",
    "\n",
    "def paragraph_to_vector(tokens, embeddings, tfidf_vectorizer, dim=100):\n",
    "    filtered_tokens = [word for word in tokens if word in embeddings]\n",
    "\n",
    "    if len(filtered_tokens) == 0:\n",
    "        return np.zeros(dim)  # Fallback for all-OOV paragraphs\n",
    "\n",
    "    # Compute TF-IDF vector for the paragraph (joined string of tokens)\n",
    "    tfidf_weights_full = tfidf_vectorizer.transform([' '.join(filtered_tokens)]).toarray()[0]\n",
    "\n",
    "    # Match TF-IDF weights to the filtered tokens using the vectorizer's vocabulary\n",
    "    vocab = tfidf_vectorizer.get_feature_names_out()        ## ['bone', 'clear', 'detected', ..., 'xray']\n",
    "    word2index = {word: i for i, word in enumerate(vocab)}\n",
    "\n",
    "    tfidf_weights = [\n",
    "        tfidf_weights_full[word2index[word]] if word in word2index else 0.0\n",
    "        for word in filtered_tokens\n",
    "    ]\n",
    "\n",
    "    # Compute weighted embeddings\n",
    "    weighted_vectors = np.array([\n",
    "        embeddings[word] * tfidf_weights[i]\n",
    "        for i, word in enumerate(filtered_tokens)\n",
    "    ])\n",
    "\n",
    "    # Return the average of the weighted vectors\n",
    "    return np.mean(weighted_vectors, axis=0)\n",
    "\n",
    "\n",
    "def count_oov_words(tokens, embeddings):\n",
    "    oov_count = 0\n",
    "    for word in tokens:\n",
    "        if word not in embeddings:\n",
    "            oov_count += 1\n",
    "    return oov_count\n",
    "\n",
    "\n"
   ],
   "metadata": {
    "id": "oprnl1J2e2ZL",
    "ExecuteTime": {
     "end_time": "2025-05-13T22:42:52.130037Z",
     "start_time": "2025-05-13T22:42:52.122514Z"
    }
   },
   "outputs": [],
   "execution_count": 8
  },
  {
   "cell_type": "markdown",
   "source": [
    "# Reading data"
   ],
   "metadata": {
    "id": "smWDDTI5fF5r"
   }
  },
  {
   "cell_type": "code",
   "source": [
    "# df=pd.read_csv(base_dir+'/filtered3_paragraphs.csv')\n",
    "df = pd.read_csv('filtered3_paragraphs.csv')\n",
    "data=pd.DataFrame(df)\n",
    "data.head()"
   ],
   "metadata": {
    "id": "CcehRKh2e4wE",
    "colab": {
     "base_uri": "https://localhost:8080/",
     "height": 206
    },
    "outputId": "319a61b1-e246-414a-f983-f0608560a6bc",
    "ExecuteTime": {
     "end_time": "2025-05-13T22:42:52.265511Z",
     "start_time": "2025-05-13T22:42:52.157837Z"
    }
   },
   "outputs": [
    {
     "data": {
      "text/plain": [
       "                                                text  generated      topic\n",
       "0  there is no single answer to the question of w...          1  education\n",
       "1  education is a crucial part of every individua...          1  education\n",
       "2  online schools zs traditional schools which bs...          1  education\n",
       "3  education is an essential component of human l...          1  education\n",
       "4  hey its me your average 8th grade student  for...          1  education"
      ],
      "text/html": [
       "<div>\n",
       "<style scoped>\n",
       "    .dataframe tbody tr th:only-of-type {\n",
       "        vertical-align: middle;\n",
       "    }\n",
       "\n",
       "    .dataframe tbody tr th {\n",
       "        vertical-align: top;\n",
       "    }\n",
       "\n",
       "    .dataframe thead th {\n",
       "        text-align: right;\n",
       "    }\n",
       "</style>\n",
       "<table border=\"1\" class=\"dataframe\">\n",
       "  <thead>\n",
       "    <tr style=\"text-align: right;\">\n",
       "      <th></th>\n",
       "      <th>text</th>\n",
       "      <th>generated</th>\n",
       "      <th>topic</th>\n",
       "    </tr>\n",
       "  </thead>\n",
       "  <tbody>\n",
       "    <tr>\n",
       "      <th>0</th>\n",
       "      <td>there is no single answer to the question of w...</td>\n",
       "      <td>1</td>\n",
       "      <td>education</td>\n",
       "    </tr>\n",
       "    <tr>\n",
       "      <th>1</th>\n",
       "      <td>education is a crucial part of every individua...</td>\n",
       "      <td>1</td>\n",
       "      <td>education</td>\n",
       "    </tr>\n",
       "    <tr>\n",
       "      <th>2</th>\n",
       "      <td>online schools zs traditional schools which bs...</td>\n",
       "      <td>1</td>\n",
       "      <td>education</td>\n",
       "    </tr>\n",
       "    <tr>\n",
       "      <th>3</th>\n",
       "      <td>education is an essential component of human l...</td>\n",
       "      <td>1</td>\n",
       "      <td>education</td>\n",
       "    </tr>\n",
       "    <tr>\n",
       "      <th>4</th>\n",
       "      <td>hey its me your average 8th grade student  for...</td>\n",
       "      <td>1</td>\n",
       "      <td>education</td>\n",
       "    </tr>\n",
       "  </tbody>\n",
       "</table>\n",
       "</div>"
      ]
     },
     "execution_count": 9,
     "metadata": {},
     "output_type": "execute_result"
    }
   ],
   "execution_count": 9
  },
  {
   "cell_type": "code",
   "source": [
    "data.rename(columns={'generated': 'label'}, inplace=True)\n",
    "print(data['label'].value_counts())\n"
   ],
   "metadata": {
    "id": "QD1uhFa5fMNd",
    "colab": {
     "base_uri": "https://localhost:8080/"
    },
    "outputId": "fa4334fa-2d9d-409d-b0ac-5a5098632dc4",
    "ExecuteTime": {
     "end_time": "2025-05-13T22:42:52.411244Z",
     "start_time": "2025-05-13T22:42:52.405822Z"
    }
   },
   "outputs": [
    {
     "name": "stdout",
     "output_type": "stream",
     "text": [
      "label\n",
      "1    150\n",
      "0    150\n",
      "Name: count, dtype: int64\n"
     ]
    }
   ],
   "execution_count": 10
  },
  {
   "metadata": {
    "ExecuteTime": {
     "end_time": "2025-05-13T23:04:07.667179Z",
     "start_time": "2025-05-13T23:04:07.630580Z"
    }
   },
   "cell_type": "code",
   "source": "data[\"topic\"].value_counts()",
   "outputs": [
    {
     "data": {
      "text/plain": [
       "topic\n",
       "education     100\n",
       "healthcare    100\n",
       "science       100\n",
       "Name: count, dtype: int64"
      ]
     },
     "execution_count": 25,
     "metadata": {},
     "output_type": "execute_result"
    }
   ],
   "execution_count": 25
  },
  {
   "cell_type": "markdown",
   "source": [
    "### clean & Tokenize Text"
   ],
   "metadata": {
    "id": "OxMnrB1NfXFT"
   }
  },
  {
   "cell_type": "code",
   "source": [
    "data['clean_text'] = data['text'].apply(clean_text)\n",
    "data['tokens'] = data['clean_text'].apply(lambda x: x.split())\n",
    "\n"
   ],
   "metadata": {
    "id": "0o_1Dp26fPMq",
    "ExecuteTime": {
     "end_time": "2025-05-13T22:42:52.551439Z",
     "start_time": "2025-05-13T22:42:52.493709Z"
    }
   },
   "outputs": [],
   "execution_count": 11
  },
  {
   "cell_type": "code",
   "source": [
    "display(data[['label', 'clean_text', 'tokens']].head())"
   ],
   "metadata": {
    "id": "QQyscAPWfcTb",
    "colab": {
     "base_uri": "https://localhost:8080/",
     "height": 206
    },
    "outputId": "a1d21d58-056b-46f4-eea6-bfa678e31809",
    "ExecuteTime": {
     "end_time": "2025-05-13T22:42:52.595425Z",
     "start_time": "2025-05-13T22:42:52.583374Z"
    }
   },
   "outputs": [
    {
     "data": {
      "text/plain": [
       "   label                                         clean_text  \\\n",
       "0      1  there is no single answer to the question of w...   \n",
       "1      1  education is a crucial part of every individua...   \n",
       "2      1  online schools zs traditional schools which bs...   \n",
       "3      1  education is an essential component of human l...   \n",
       "4      1  hey its me your average 8th grade student for ...   \n",
       "\n",
       "                                              tokens  \n",
       "0  [there, is, no, single, answer, to, the, quest...  \n",
       "1  [education, is, a, crucial, part, of, every, i...  \n",
       "2  [online, schools, zs, traditional, schools, wh...  \n",
       "3  [education, is, an, essential, component, of, ...  \n",
       "4  [hey, its, me, your, average, 8th, grade, stud...  "
      ],
      "text/html": [
       "<div>\n",
       "<style scoped>\n",
       "    .dataframe tbody tr th:only-of-type {\n",
       "        vertical-align: middle;\n",
       "    }\n",
       "\n",
       "    .dataframe tbody tr th {\n",
       "        vertical-align: top;\n",
       "    }\n",
       "\n",
       "    .dataframe thead th {\n",
       "        text-align: right;\n",
       "    }\n",
       "</style>\n",
       "<table border=\"1\" class=\"dataframe\">\n",
       "  <thead>\n",
       "    <tr style=\"text-align: right;\">\n",
       "      <th></th>\n",
       "      <th>label</th>\n",
       "      <th>clean_text</th>\n",
       "      <th>tokens</th>\n",
       "    </tr>\n",
       "  </thead>\n",
       "  <tbody>\n",
       "    <tr>\n",
       "      <th>0</th>\n",
       "      <td>1</td>\n",
       "      <td>there is no single answer to the question of w...</td>\n",
       "      <td>[there, is, no, single, answer, to, the, quest...</td>\n",
       "    </tr>\n",
       "    <tr>\n",
       "      <th>1</th>\n",
       "      <td>1</td>\n",
       "      <td>education is a crucial part of every individua...</td>\n",
       "      <td>[education, is, a, crucial, part, of, every, i...</td>\n",
       "    </tr>\n",
       "    <tr>\n",
       "      <th>2</th>\n",
       "      <td>1</td>\n",
       "      <td>online schools zs traditional schools which bs...</td>\n",
       "      <td>[online, schools, zs, traditional, schools, wh...</td>\n",
       "    </tr>\n",
       "    <tr>\n",
       "      <th>3</th>\n",
       "      <td>1</td>\n",
       "      <td>education is an essential component of human l...</td>\n",
       "      <td>[education, is, an, essential, component, of, ...</td>\n",
       "    </tr>\n",
       "    <tr>\n",
       "      <th>4</th>\n",
       "      <td>1</td>\n",
       "      <td>hey its me your average 8th grade student for ...</td>\n",
       "      <td>[hey, its, me, your, average, 8th, grade, stud...</td>\n",
       "    </tr>\n",
       "  </tbody>\n",
       "</table>\n",
       "</div>"
      ]
     },
     "metadata": {},
     "output_type": "display_data"
    }
   ],
   "execution_count": 12
  },
  {
   "cell_type": "markdown",
   "source": [
    "### Vectorize Using Word Embeddings"
   ],
   "metadata": {
    "id": "Ywu5lRxmfuVY"
   }
  },
  {
   "cell_type": "markdown",
   "source": [
    "What is GloVe?\n",
    "*   Converts words (like \"cat\", \"intelligence\") into 100-dimensional vectors.\n",
    "*   Words with similar meanings have similar vectors.\n",
    "*   These vectors allow machine learning models to understand text numerically.\n",
    "\n",
    "\n",
    "\n",
    "\n"
   ],
   "metadata": {
    "id": "RUvWW17GfvH1"
   }
  },
  {
   "cell_type": "code",
   "source": [
    "embeddings = {}\n",
    "with open(glove_path, encoding=\"utf-8\") as f:\n",
    "    for line in f:\n",
    "        values = line.split()\n",
    "        word = values[0]\n",
    "        vector = np.array(values[1:], dtype='float32')\n",
    "        embeddings[word] = vector\n",
    "\n",
    "\n",
    "corpus = data['tokens'].apply(lambda tokens: ' '.join(tokens)).tolist()\n",
    "tfidf_vectorizer = TfidfVectorizer()\n",
    "tfidf_vectorizer.fit(corpus)\n",
    "print(\"Loaded GloVe embeddings. Total words:\", len(embeddings))\n",
    "data['vector'] = data['tokens'].apply(lambda tokens: paragraph_to_vector(tokens, embeddings,tfidf_vectorizer))"
   ],
   "metadata": {
    "id": "G5eg88pOfnQB",
    "colab": {
     "base_uri": "https://localhost:8080/"
    },
    "outputId": "c1f83eee-b4ed-4873-fb6c-a3724b9a716b",
    "ExecuteTime": {
     "end_time": "2025-05-13T22:43:20.887460Z",
     "start_time": "2025-05-13T22:42:52.828330Z"
    }
   },
   "outputs": [
    {
     "name": "stdout",
     "output_type": "stream",
     "text": [
      "Loaded GloVe embeddings. Total words: 400001\n"
     ]
    }
   ],
   "execution_count": 13
  },
  {
   "cell_type": "code",
   "source": [
    "data.head()"
   ],
   "metadata": {
    "id": "BnxNk6wrf4LB",
    "colab": {
     "base_uri": "https://localhost:8080/",
     "height": 293
    },
    "outputId": "ce112845-0f22-46bd-e053-8234bb856f28",
    "ExecuteTime": {
     "end_time": "2025-05-13T22:43:21.620983Z",
     "start_time": "2025-05-13T22:43:21.605543Z"
    }
   },
   "outputs": [
    {
     "data": {
      "text/plain": [
       "                                                text  label      topic  \\\n",
       "0  there is no single answer to the question of w...      1  education   \n",
       "1  education is a crucial part of every individua...      1  education   \n",
       "2  online schools zs traditional schools which bs...      1  education   \n",
       "3  education is an essential component of human l...      1  education   \n",
       "4  hey its me your average 8th grade student  for...      1  education   \n",
       "\n",
       "                                          clean_text  \\\n",
       "0  there is no single answer to the question of w...   \n",
       "1  education is a crucial part of every individua...   \n",
       "2  online schools zs traditional schools which bs...   \n",
       "3  education is an essential component of human l...   \n",
       "4  hey its me your average 8th grade student for ...   \n",
       "\n",
       "                                              tokens  \\\n",
       "0  [there, is, no, single, answer, to, the, quest...   \n",
       "1  [education, is, a, crucial, part, of, every, i...   \n",
       "2  [online, schools, zs, traditional, schools, wh...   \n",
       "3  [education, is, an, essential, component, of, ...   \n",
       "4  [hey, its, me, your, average, 8th, grade, stud...   \n",
       "\n",
       "                                              vector  \n",
       "0  [-0.01593094, 0.05231088, 0.036427163, -0.0027...  \n",
       "1  [-0.0047521135, 0.029845364, 0.017792812, -0.0...  \n",
       "2  [0.008893882, 0.04885239, -0.017433826, -0.014...  \n",
       "3  [0.0034296457, 0.040322654, -0.007878398, 0.01...  \n",
       "4  [-0.014221176, 0.043774586, 0.06623217, -0.033...  "
      ],
      "text/html": [
       "<div>\n",
       "<style scoped>\n",
       "    .dataframe tbody tr th:only-of-type {\n",
       "        vertical-align: middle;\n",
       "    }\n",
       "\n",
       "    .dataframe tbody tr th {\n",
       "        vertical-align: top;\n",
       "    }\n",
       "\n",
       "    .dataframe thead th {\n",
       "        text-align: right;\n",
       "    }\n",
       "</style>\n",
       "<table border=\"1\" class=\"dataframe\">\n",
       "  <thead>\n",
       "    <tr style=\"text-align: right;\">\n",
       "      <th></th>\n",
       "      <th>text</th>\n",
       "      <th>label</th>\n",
       "      <th>topic</th>\n",
       "      <th>clean_text</th>\n",
       "      <th>tokens</th>\n",
       "      <th>vector</th>\n",
       "    </tr>\n",
       "  </thead>\n",
       "  <tbody>\n",
       "    <tr>\n",
       "      <th>0</th>\n",
       "      <td>there is no single answer to the question of w...</td>\n",
       "      <td>1</td>\n",
       "      <td>education</td>\n",
       "      <td>there is no single answer to the question of w...</td>\n",
       "      <td>[there, is, no, single, answer, to, the, quest...</td>\n",
       "      <td>[-0.01593094, 0.05231088, 0.036427163, -0.0027...</td>\n",
       "    </tr>\n",
       "    <tr>\n",
       "      <th>1</th>\n",
       "      <td>education is a crucial part of every individua...</td>\n",
       "      <td>1</td>\n",
       "      <td>education</td>\n",
       "      <td>education is a crucial part of every individua...</td>\n",
       "      <td>[education, is, a, crucial, part, of, every, i...</td>\n",
       "      <td>[-0.0047521135, 0.029845364, 0.017792812, -0.0...</td>\n",
       "    </tr>\n",
       "    <tr>\n",
       "      <th>2</th>\n",
       "      <td>online schools zs traditional schools which bs...</td>\n",
       "      <td>1</td>\n",
       "      <td>education</td>\n",
       "      <td>online schools zs traditional schools which bs...</td>\n",
       "      <td>[online, schools, zs, traditional, schools, wh...</td>\n",
       "      <td>[0.008893882, 0.04885239, -0.017433826, -0.014...</td>\n",
       "    </tr>\n",
       "    <tr>\n",
       "      <th>3</th>\n",
       "      <td>education is an essential component of human l...</td>\n",
       "      <td>1</td>\n",
       "      <td>education</td>\n",
       "      <td>education is an essential component of human l...</td>\n",
       "      <td>[education, is, an, essential, component, of, ...</td>\n",
       "      <td>[0.0034296457, 0.040322654, -0.007878398, 0.01...</td>\n",
       "    </tr>\n",
       "    <tr>\n",
       "      <th>4</th>\n",
       "      <td>hey its me your average 8th grade student  for...</td>\n",
       "      <td>1</td>\n",
       "      <td>education</td>\n",
       "      <td>hey its me your average 8th grade student for ...</td>\n",
       "      <td>[hey, its, me, your, average, 8th, grade, stud...</td>\n",
       "      <td>[-0.014221176, 0.043774586, 0.06623217, -0.033...</td>\n",
       "    </tr>\n",
       "  </tbody>\n",
       "</table>\n",
       "</div>"
      ]
     },
     "execution_count": 14,
     "metadata": {},
     "output_type": "execute_result"
    }
   ],
   "execution_count": 14
  },
  {
   "cell_type": "code",
   "source": [
    "data.loc[0,\"vector\"].shape"
   ],
   "metadata": {
    "id": "xBOpadK5c_dz",
    "colab": {
     "base_uri": "https://localhost:8080/"
    },
    "outputId": "31fe22c2-28ee-4147-a37b-2280868b21fd",
    "ExecuteTime": {
     "end_time": "2025-05-13T22:43:24.490485Z",
     "start_time": "2025-05-13T22:43:24.485673Z"
    }
   },
   "outputs": [
    {
     "data": {
      "text/plain": [
       "(100,)"
      ]
     },
     "execution_count": 15,
     "metadata": {},
     "output_type": "execute_result"
    }
   ],
   "execution_count": 15
  },
  {
   "cell_type": "code",
   "source": [
    "# To check\n",
    "print('hello' in embeddings)\n",
    "print('asdfghjkl' in embeddings)"
   ],
   "metadata": {
    "id": "4DUZK24xf9qN",
    "colab": {
     "base_uri": "https://localhost:8080/"
    },
    "outputId": "2eac30a9-2e25-4571-b222-8468c2703a6a",
    "ExecuteTime": {
     "end_time": "2025-05-13T22:43:25.276762Z",
     "start_time": "2025-05-13T22:43:25.271881Z"
    }
   },
   "outputs": [
    {
     "name": "stdout",
     "output_type": "stream",
     "text": [
      "True\n",
      "False\n"
     ]
    }
   ],
   "execution_count": 16
  },
  {
   "cell_type": "markdown",
   "source": [
    "### Splitting"
   ],
   "metadata": {
    "id": "OT8-2_Bwhov1"
   }
  },
  {
   "cell_type": "code",
   "source": "x_train, x_test, y_train, y_test = train_test_split(data['vector'].tolist(), data['label'].tolist(), test_size=0.2, random_state=42)",
   "metadata": {
    "id": "zYklW5ZXgEPm",
    "ExecuteTime": {
     "end_time": "2025-05-13T22:43:25.904123Z",
     "start_time": "2025-05-13T22:43:25.776550Z"
    }
   },
   "outputs": [],
   "execution_count": 17
  },
  {
   "cell_type": "markdown",
   "source": [
    "### Save the dataset"
   ],
   "metadata": {
    "id": "MPYgi89vi9yL"
   }
  },
  {
   "cell_type": "code",
   "source": [
    "X_all=data.drop(['label'],axis=1)\n",
    "y_all=data['label']\n",
    "\n",
    "x_all_train , x_all_test, y_all_train, y_all_test = train_test_split(X_all, y_all, test_size=0.2, random_state=42)\n",
    "\n"
   ],
   "metadata": {
    "id": "CuRjmRePmUzX",
    "ExecuteTime": {
     "end_time": "2025-05-13T22:43:26.298267Z",
     "start_time": "2025-05-13T22:43:26.275508Z"
    }
   },
   "outputs": [],
   "execution_count": 18
  },
  {
   "cell_type": "code",
   "source": [
    "data.to_csv('vector_dataset.csv', index=False)\n"
   ],
   "metadata": {
    "id": "zKLEKv0Tihcp",
    "ExecuteTime": {
     "end_time": "2025-05-13T22:43:27.094815Z",
     "start_time": "2025-05-13T22:43:26.680110Z"
    }
   },
   "outputs": [],
   "execution_count": 19
  },
  {
   "cell_type": "code",
   "source": [
    "# train_data = pd.DataFrame({\n",
    "#     'vector': x_train,\n",
    "#     'label': y_train\n",
    "# })\n",
    "\n",
    "# test_data = pd.DataFrame({\n",
    "#     'vector': x_test,\n",
    "#     'label': y_test\n",
    "# })\n",
    "\n",
    "train_data = pd.concat([x_all_train, y_all_train], axis=1)\n",
    "test_data = pd.concat([x_all_test, y_all_test], axis=1)\n",
    "\n",
    "train_data.to_csv('train.csv', index=False)\n",
    "test_data.to_csv('test.csv', index=False)"
   ],
   "metadata": {
    "id": "rCMHBMnGjdEx",
    "ExecuteTime": {
     "end_time": "2025-05-13T22:43:27.742905Z",
     "start_time": "2025-05-13T22:43:27.439729Z"
    }
   },
   "outputs": [],
   "execution_count": 20
  },
  {
   "cell_type": "code",
   "source": [
    "# total_oov_count = 0\n",
    "total_oov_count = (data['tokens'].apply(lambda tokens: count_oov_words(tokens, embeddings))).sum()\n",
    "\n",
    "\n",
    "embedding_dim = len(data['vector'][0])\n",
    "total_paragraphs = len(data)\n",
    "num_ai = len(data[data['label'] == 0])\n",
    "num_human = len(data[data['label'] == 1])\n",
    "\n",
    "\n",
    "# vocab_size = embedding_dim\n",
    "used_vocab = set(word for tokens in data['tokens'] for word in tokens if word in embeddings)\n",
    "vocab_size = len(used_vocab)\n",
    "\n",
    "\n",
    "# OOV (out-of-vocabulary) handling it by using zero vectors for unknown words\n",
    "oov_handling = 'filters out OOV words'\n",
    "\n",
    "with open('embedding_report.txt', 'w') as f:\n",
    "    f.write(f\"Dataset Statistics:\\n\")\n",
    "    f.write(f\"Total number of paragraphs: {total_paragraphs}\\n\")\n",
    "    f.write(f\"Number of AI samples: {num_ai}\\n\")\n",
    "    f.write(f\"Number of Human samples: {num_human}\\n\")\n",
    "    f.write(\"\\n\\n\")\n",
    "\n",
    "    f.write(f\"Embedding Model: GloVe\\n\")\n",
    "    f.write(f\"Embedding Dimensions: {embedding_dim}\\n\")\n",
    "    f.write(\"\\n\\n\")\n",
    "\n",
    "    f.write(f\"Vocabulary Size: {vocab_size}\\n\")\n",
    "    f.write(\"\\n\\n\")\n",
    "\n",
    "\n",
    "    f.write(f\"OOV Handling: {oov_handling}\\n\")\n",
    "    f.write(f\"Total OOV words encountered across all paragraphs: {total_oov_count}\\n\")\n",
    "\n"
   ],
   "metadata": {
    "id": "vcP1y1tpjxsb",
    "ExecuteTime": {
     "end_time": "2025-05-13T22:43:28.169805Z",
     "start_time": "2025-05-13T22:43:28.096944Z"
    }
   },
   "outputs": [],
   "execution_count": 21
  },
  {
   "cell_type": "code",
   "source": [
    "# from google.colab import drive\n",
    "# drive.mount('/content/drive')"
   ],
   "metadata": {
    "id": "eMGuyiXEljwa",
    "colab": {
     "base_uri": "https://localhost:8080/"
    },
    "outputId": "1d211dab-7564-483a-e951-a2c93cea5b6a",
    "ExecuteTime": {
     "end_time": "2025-05-13T22:43:28.553284Z",
     "start_time": "2025-05-13T22:43:28.548626Z"
    }
   },
   "outputs": [],
   "execution_count": 22
  },
  {
   "cell_type": "markdown",
   "source": [
    "# Supervised Learning Task"
   ],
   "metadata": {
    "id": "3xlOWyuNux72"
   }
  },
  {
   "cell_type": "markdown",
   "source": [
    "#### logistic regression\n"
   ],
   "metadata": {
    "id": "vF8njpFH-mLX"
   }
  },
  {
   "cell_type": "code",
   "source": [
    "LRmodel = LogisticRegression(max_iter=1000)\n",
    "LRmodel.fit(x_train, y_train)\n",
    "\n",
    "# Predict\n",
    "y_train_pred = LRmodel.predict(x_train)\n",
    "y_test_pred = LRmodel.predict(x_test)\n",
    "\n",
    "# Report\n",
    "print(\"Logistic Regression Performance:\")\n",
    "print(\"Accuracy for train:\", accuracy_score(y_train, y_train_pred))\n",
    "print(\"Accuracy for test:\", accuracy_score(y_test, y_test_pred))\n",
    "print(classification_report(y_test, y_test_pred))"
   ],
   "metadata": {
    "id": "10q4LX_0-pun",
    "colab": {
     "base_uri": "https://localhost:8080/"
    },
    "outputId": "200a1a8f-1c28-4812-ca7c-ecdda3c597d1",
    "ExecuteTime": {
     "end_time": "2025-05-13T22:43:30.452480Z",
     "start_time": "2025-05-13T22:43:28.996987Z"
    }
   },
   "outputs": [
    {
     "name": "stdout",
     "output_type": "stream",
     "text": [
      "Logistic Regression Performance:\n",
      "Accuracy for train: 0.7833333333333333\n",
      "Accuracy for test: 0.7\n",
      "              precision    recall  f1-score   support\n",
      "\n",
      "           0       0.69      0.77      0.73        31\n",
      "           1       0.72      0.62      0.67        29\n",
      "\n",
      "    accuracy                           0.70        60\n",
      "   macro avg       0.70      0.70      0.70        60\n",
      "weighted avg       0.70      0.70      0.70        60\n",
      "\n"
     ]
    }
   ],
   "execution_count": 23
  },
  {
   "cell_type": "code",
   "source": [],
   "metadata": {
    "id": "AF7h9SUCu3dc",
    "ExecuteTime": {
     "end_time": "2025-05-13T22:43:30.816576Z",
     "start_time": "2025-05-13T22:43:30.813605Z"
    }
   },
   "outputs": [],
   "execution_count": null
  },
  {
   "metadata": {
    "ExecuteTime": {
     "end_time": "2025-05-13T23:32:47.748960Z",
     "start_time": "2025-05-13T23:32:47.495030Z"
    }
   },
   "cell_type": "code",
   "source": [
    "X_Train_KMeans, X_Test_KMeans, Y_Train_KMeans, Y_Test_Kmeans = train_test_split(\n",
    "    data[\"vector\"], data[\"topic\"], test_size=0.2, random_state=42\n",
    ")\n",
    "\n",
    "# 2. Convert to NumPy arrays (from lists of vectors)\n",
    "X_Train_KMeans = np.array(X_Train_KMeans.tolist())\n",
    "X_Test_KMeans = np.array(X_Test_KMeans.tolist())\n",
    "\n",
    "# 3. Apply KMeans clustering\n",
    "num_clusters = 3\n",
    "kmeans = KMeans(n_clusters=num_clusters, random_state=42)\n",
    "kmeans.fit(X_Train_KMeans)\n",
    "\n",
    "# 4. Predict cluster labels\n",
    "train_clusters = kmeans.predict(X_Train_KMeans)\n",
    "test_clusters = kmeans.predict(X_Test_KMeans)\n",
    "\n",
    "# 5. Evaluate clustering vs actual topic labels\n",
    "train_ari = adjusted_rand_score(Y_Train_KMeans, train_clusters)\n",
    "test_ari = adjusted_rand_score(Y_Test_Kmeans, test_clusters)\n",
    "\n",
    "print(\"Adjusted Rand Index on training set:\", train_ari)\n",
    "print(\"Adjusted Rand Index on test set:\", test_ari)\n",
    "\n",
    "# 6. Visualize training clusters using PCA\n",
    "pca = PCA(n_components=2)\n",
    "X_train_2d = pca.fit_transform(X_Train_KMeans)\n",
    "\n",
    "plt.figure(figsize=(8, 6))\n",
    "plt.scatter(X_train_2d[:, 0], X_train_2d[:, 1], c=train_clusters, cmap='viridis', s=40)\n",
    "plt.title('KMeans Clustering (Training Data)')\n",
    "plt.xlabel('PCA Component 1')\n",
    "plt.ylabel('PCA Component 2')\n",
    "plt.colorbar(label='Cluster')\n",
    "plt.grid(True)\n",
    "plt.show()"
   ],
   "outputs": [
    {
     "name": "stderr",
     "output_type": "stream",
     "text": [
      "D:\\anaconda2\\Lib\\site-packages\\sklearn\\cluster\\_kmeans.py:1429: UserWarning: KMeans is known to have a memory leak on Windows with MKL, when there are less chunks than available threads. You can avoid it by setting the environment variable OMP_NUM_THREADS=1.\n",
      "  warnings.warn(\n"
     ]
    },
    {
     "name": "stdout",
     "output_type": "stream",
     "text": [
      "Adjusted Rand Index on training set: 0.016009687759723303\n",
      "Adjusted Rand Index on test set: 0.018013576657233243\n"
     ]
    },
    {
     "data": {
      "text/plain": [
       "<Figure size 800x600 with 2 Axes>"
      ],
      "image/png": "[encoded data removed]"
     },
     "metadata": {},
     "output_type": "display_data"
    }
   ],
   "execution_count": 37
  },
  {
   "metadata": {
    "ExecuteTime": {
     "end_time": "2025-05-13T23:31:37.852893Z",
     "start_time": "2025-05-13T23:31:37.805528Z"
    }
   },
   "cell_type": "code",
   "source": [
    "data['cluster'] = kmeans.labels_\n",
    "data['topic'] = data['topic'].astype(str)  # for groupby\n",
    "\n",
    "for c in range(num_clusters):\n",
    "    print(f\"\\nCluster {c} topic breakdown:\")\n",
    "    print(data[data['cluster'] == c]['topic'].value_counts())\n"
   ],
   "outputs": [
    {
     "ename": "ValueError",
     "evalue": "Length of values (240) does not match length of index (300)",
     "output_type": "error",
     "traceback": [
      "\u001B[1;31m---------------------------------------------------------------------------\u001B[0m",
      "\u001B[1;31mValueError\u001B[0m                                Traceback (most recent call last)",
      "Cell \u001B[1;32mIn[35], line 1\u001B[0m\n\u001B[1;32m----> 1\u001B[0m \u001B[43mdata\u001B[49m\u001B[43m[\u001B[49m\u001B[38;5;124;43m'\u001B[39;49m\u001B[38;5;124;43mcluster\u001B[39;49m\u001B[38;5;124;43m'\u001B[39;49m\u001B[43m]\u001B[49m \u001B[38;5;241m=\u001B[39m kmeans\u001B[38;5;241m.\u001B[39mlabels_\n\u001B[0;32m      2\u001B[0m data[\u001B[38;5;124m'\u001B[39m\u001B[38;5;124mtopic\u001B[39m\u001B[38;5;124m'\u001B[39m] \u001B[38;5;241m=\u001B[39m data[\u001B[38;5;124m'\u001B[39m\u001B[38;5;124mtopic\u001B[39m\u001B[38;5;124m'\u001B[39m]\u001B[38;5;241m.\u001B[39mastype(\u001B[38;5;28mstr\u001B[39m)  \u001B[38;5;66;03m# for groupby\u001B[39;00m\n\u001B[0;32m      4\u001B[0m \u001B[38;5;28;01mfor\u001B[39;00m c \u001B[38;5;129;01min\u001B[39;00m \u001B[38;5;28mrange\u001B[39m(num_clusters):\n",
      "File \u001B[1;32mD:\\anaconda2\\Lib\\site-packages\\pandas\\core\\frame.py:4311\u001B[0m, in \u001B[0;36mDataFrame.__setitem__\u001B[1;34m(self, key, value)\u001B[0m\n\u001B[0;32m   4308\u001B[0m     \u001B[38;5;28mself\u001B[39m\u001B[38;5;241m.\u001B[39m_setitem_array([key], value)\n\u001B[0;32m   4309\u001B[0m \u001B[38;5;28;01melse\u001B[39;00m:\n\u001B[0;32m   4310\u001B[0m     \u001B[38;5;66;03m# set column\u001B[39;00m\n\u001B[1;32m-> 4311\u001B[0m     \u001B[38;5;28;43mself\u001B[39;49m\u001B[38;5;241;43m.\u001B[39;49m\u001B[43m_set_item\u001B[49m\u001B[43m(\u001B[49m\u001B[43mkey\u001B[49m\u001B[43m,\u001B[49m\u001B[43m \u001B[49m\u001B[43mvalue\u001B[49m\u001B[43m)\u001B[49m\n",
      "File \u001B[1;32mD:\\anaconda2\\Lib\\site-packages\\pandas\\core\\frame.py:4524\u001B[0m, in \u001B[0;36mDataFrame._set_item\u001B[1;34m(self, key, value)\u001B[0m\n\u001B[0;32m   4514\u001B[0m \u001B[38;5;28;01mdef\u001B[39;00m \u001B[38;5;21m_set_item\u001B[39m(\u001B[38;5;28mself\u001B[39m, key, value) \u001B[38;5;241m-\u001B[39m\u001B[38;5;241m>\u001B[39m \u001B[38;5;28;01mNone\u001B[39;00m:\n\u001B[0;32m   4515\u001B[0m \u001B[38;5;250m    \u001B[39m\u001B[38;5;124;03m\"\"\"\u001B[39;00m\n\u001B[0;32m   4516\u001B[0m \u001B[38;5;124;03m    Add series to DataFrame in specified column.\u001B[39;00m\n\u001B[0;32m   4517\u001B[0m \n\u001B[1;32m   (...)\u001B[0m\n\u001B[0;32m   4522\u001B[0m \u001B[38;5;124;03m    ensure homogeneity.\u001B[39;00m\n\u001B[0;32m   4523\u001B[0m \u001B[38;5;124;03m    \"\"\"\u001B[39;00m\n\u001B[1;32m-> 4524\u001B[0m     value, refs \u001B[38;5;241m=\u001B[39m \u001B[38;5;28;43mself\u001B[39;49m\u001B[38;5;241;43m.\u001B[39;49m\u001B[43m_sanitize_column\u001B[49m\u001B[43m(\u001B[49m\u001B[43mvalue\u001B[49m\u001B[43m)\u001B[49m\n\u001B[0;32m   4526\u001B[0m     \u001B[38;5;28;01mif\u001B[39;00m (\n\u001B[0;32m   4527\u001B[0m         key \u001B[38;5;129;01min\u001B[39;00m \u001B[38;5;28mself\u001B[39m\u001B[38;5;241m.\u001B[39mcolumns\n\u001B[0;32m   4528\u001B[0m         \u001B[38;5;129;01mand\u001B[39;00m value\u001B[38;5;241m.\u001B[39mndim \u001B[38;5;241m==\u001B[39m \u001B[38;5;241m1\u001B[39m\n\u001B[0;32m   4529\u001B[0m         \u001B[38;5;129;01mand\u001B[39;00m \u001B[38;5;129;01mnot\u001B[39;00m \u001B[38;5;28misinstance\u001B[39m(value\u001B[38;5;241m.\u001B[39mdtype, ExtensionDtype)\n\u001B[0;32m   4530\u001B[0m     ):\n\u001B[0;32m   4531\u001B[0m         \u001B[38;5;66;03m# broadcast across multiple columns if necessary\u001B[39;00m\n\u001B[0;32m   4532\u001B[0m         \u001B[38;5;28;01mif\u001B[39;00m \u001B[38;5;129;01mnot\u001B[39;00m \u001B[38;5;28mself\u001B[39m\u001B[38;5;241m.\u001B[39mcolumns\u001B[38;5;241m.\u001B[39mis_unique \u001B[38;5;129;01mor\u001B[39;00m \u001B[38;5;28misinstance\u001B[39m(\u001B[38;5;28mself\u001B[39m\u001B[38;5;241m.\u001B[39mcolumns, MultiIndex):\n",
      "File \u001B[1;32mD:\\anaconda2\\Lib\\site-packages\\pandas\\core\\frame.py:5266\u001B[0m, in \u001B[0;36mDataFrame._sanitize_column\u001B[1;34m(self, value)\u001B[0m\n\u001B[0;32m   5263\u001B[0m     \u001B[38;5;28;01mreturn\u001B[39;00m _reindex_for_setitem(value, \u001B[38;5;28mself\u001B[39m\u001B[38;5;241m.\u001B[39mindex)\n\u001B[0;32m   5265\u001B[0m \u001B[38;5;28;01mif\u001B[39;00m is_list_like(value):\n\u001B[1;32m-> 5266\u001B[0m     \u001B[43mcom\u001B[49m\u001B[38;5;241;43m.\u001B[39;49m\u001B[43mrequire_length_match\u001B[49m\u001B[43m(\u001B[49m\u001B[43mvalue\u001B[49m\u001B[43m,\u001B[49m\u001B[43m \u001B[49m\u001B[38;5;28;43mself\u001B[39;49m\u001B[38;5;241;43m.\u001B[39;49m\u001B[43mindex\u001B[49m\u001B[43m)\u001B[49m\n\u001B[0;32m   5267\u001B[0m arr \u001B[38;5;241m=\u001B[39m sanitize_array(value, \u001B[38;5;28mself\u001B[39m\u001B[38;5;241m.\u001B[39mindex, copy\u001B[38;5;241m=\u001B[39m\u001B[38;5;28;01mTrue\u001B[39;00m, allow_2d\u001B[38;5;241m=\u001B[39m\u001B[38;5;28;01mTrue\u001B[39;00m)\n\u001B[0;32m   5268\u001B[0m \u001B[38;5;28;01mif\u001B[39;00m (\n\u001B[0;32m   5269\u001B[0m     \u001B[38;5;28misinstance\u001B[39m(value, Index)\n\u001B[0;32m   5270\u001B[0m     \u001B[38;5;129;01mand\u001B[39;00m value\u001B[38;5;241m.\u001B[39mdtype \u001B[38;5;241m==\u001B[39m \u001B[38;5;124m\"\u001B[39m\u001B[38;5;124mobject\u001B[39m\u001B[38;5;124m\"\u001B[39m\n\u001B[1;32m   (...)\u001B[0m\n\u001B[0;32m   5273\u001B[0m     \u001B[38;5;66;03m# TODO: Remove kludge in sanitize_array for string mode when enforcing\u001B[39;00m\n\u001B[0;32m   5274\u001B[0m     \u001B[38;5;66;03m# this deprecation\u001B[39;00m\n",
      "File \u001B[1;32mD:\\anaconda2\\Lib\\site-packages\\pandas\\core\\common.py:573\u001B[0m, in \u001B[0;36mrequire_length_match\u001B[1;34m(data, index)\u001B[0m\n\u001B[0;32m    569\u001B[0m \u001B[38;5;250m\u001B[39m\u001B[38;5;124;03m\"\"\"\u001B[39;00m\n\u001B[0;32m    570\u001B[0m \u001B[38;5;124;03mCheck the length of data matches the length of the index.\u001B[39;00m\n\u001B[0;32m    571\u001B[0m \u001B[38;5;124;03m\"\"\"\u001B[39;00m\n\u001B[0;32m    572\u001B[0m \u001B[38;5;28;01mif\u001B[39;00m \u001B[38;5;28mlen\u001B[39m(data) \u001B[38;5;241m!=\u001B[39m \u001B[38;5;28mlen\u001B[39m(index):\n\u001B[1;32m--> 573\u001B[0m     \u001B[38;5;28;01mraise\u001B[39;00m \u001B[38;5;167;01mValueError\u001B[39;00m(\n\u001B[0;32m    574\u001B[0m         \u001B[38;5;124m\"\u001B[39m\u001B[38;5;124mLength of values \u001B[39m\u001B[38;5;124m\"\u001B[39m\n\u001B[0;32m    575\u001B[0m         \u001B[38;5;124mf\u001B[39m\u001B[38;5;124m\"\u001B[39m\u001B[38;5;124m(\u001B[39m\u001B[38;5;132;01m{\u001B[39;00m\u001B[38;5;28mlen\u001B[39m(data)\u001B[38;5;132;01m}\u001B[39;00m\u001B[38;5;124m) \u001B[39m\u001B[38;5;124m\"\u001B[39m\n\u001B[0;32m    576\u001B[0m         \u001B[38;5;124m\"\u001B[39m\u001B[38;5;124mdoes not match length of index \u001B[39m\u001B[38;5;124m\"\u001B[39m\n\u001B[0;32m    577\u001B[0m         \u001B[38;5;124mf\u001B[39m\u001B[38;5;124m\"\u001B[39m\u001B[38;5;124m(\u001B[39m\u001B[38;5;132;01m{\u001B[39;00m\u001B[38;5;28mlen\u001B[39m(index)\u001B[38;5;132;01m}\u001B[39;00m\u001B[38;5;124m)\u001B[39m\u001B[38;5;124m\"\u001B[39m\n\u001B[0;32m    578\u001B[0m     )\n",
      "\u001B[1;31mValueError\u001B[0m: Length of values (240) does not match length of index (300)"
     ]
    }
   ],
   "execution_count": 35
  },
  {
   "metadata": {},
   "cell_type": "code",
   "outputs": [],
   "execution_count": null,
   "source": ""
  }
 ]
}
